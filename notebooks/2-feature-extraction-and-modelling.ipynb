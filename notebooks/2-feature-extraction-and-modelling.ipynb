{
 "cells": [
  {
   "cell_type": "markdown",
   "metadata": {},
   "source": [
    "# Extração de Features e Construção do Modelo"
   ]
  },
  {
   "cell_type": "markdown",
   "metadata": {},
   "source": [
    "### 1. Introdução a Extração de Features\n",
    "- A extração de features é uma parte muito importante na análise e na identificação de relações entre diferentes elementos. Como já sabemos, os dados de áudio não podem ser compreendidos diretamente pelos modelos, então precisamos convertê-los para um formato inteligível, e é para isso que a extração de features é utilizada.\n"
   ]
  },
  {
   "cell_type": "markdown",
   "metadata": {},
   "source": [
    "#### Com a taxa de amostragem e os dados do sinal, podemos realizar diversas transformações para extrair características valiosas do áudio. No entanto, neste projeto, não vamos aprofundar no processo de seleção de features para identificar quais são mais relevantes para o nosso dataset. Em vez disso, vamos extrair cinco features principais para treinar nosso modelo:\n",
    "- **Zero Crossing Rate (ZCR):** Mede a taxa de mudanças de sinal no áudio, ou seja, quantas vezes ele cruza o eixo zero em um determinado intervalo de tempo. Essa feature é útil para distinguir sons percussivos e não percussivos.\n",
    "- **Chroma STFT:** Representa a energia espectral em 12 bins correspondentes às notas da escala musical ocidental. Essa característica é útil para identificar padrões harmônicos no áudio.\n",
    "- **MFCC (Mel-Frequency Cepstral Coefficients):** Converte a frequência do áudio para a escala mel, aproximando-se da percepção auditiva humana. É uma das features mais utilizadas em reconhecimento de fala e emoção.\n",
    "- **RMS (Root Mean Square):** Mede a energia do sinal ao calcular a média quadrática das amplitudes do áudio. Essa feature ajuda a representar a intensidade do som.\n",
    "- **Mel Spectrogram:** Representa a distribuição de energia do áudio em diferentes faixas de frequência na escala mel, capturando informações espectrais essenciais."
   ]
  },
  {
   "cell_type": "markdown",
   "metadata": {},
   "source": [
    "### 1.1. Importando as bibliotecas"
   ]
  },
  {
   "cell_type": "code",
   "execution_count": 1,
   "metadata": {},
   "outputs": [
    {
     "name": "stdout",
     "output_type": "stream",
     "text": [
      "WARNING:tensorflow:From c:\\Users\\Felipe\\Documents\\Trilha\\projeto_IA\\miniprojeto2\\venv\\lib\\site-packages\\keras\\src\\losses.py:2976: The name tf.losses.sparse_softmax_cross_entropy is deprecated. Please use tf.compat.v1.losses.sparse_softmax_cross_entropy instead.\n",
      "\n"
     ]
    }
   ],
   "source": [
    "import pandas as pd\n",
    "import numpy as np\n",
    "\n",
    "import pickle\n",
    "import os\n",
    "import sys\n",
    "\n",
    "import librosa\n",
    "import librosa.display\n",
    "import seaborn as sns\n",
    "import matplotlib.pyplot as plt\n",
    "\n",
    "from sklearn.preprocessing import StandardScaler, OneHotEncoder\n",
    "from sklearn.metrics import confusion_matrix, classification_report\n",
    "from sklearn.model_selection import train_test_split\n",
    "\n",
    "from IPython.display import Audio\n",
    "\n",
    "import keras\n",
    "from keras.callbacks import ReduceLROnPlateau\n",
    "from keras.models import Sequential\n",
    "from keras.layers import Dense, Conv1D, MaxPooling1D, Flatten, Dropout, BatchNormalization\n",
    "from keras.utils import to_categorical\n",
    "from keras.callbacks import ModelCheckpoint\n",
    "\n",
    "import warnings\n",
    "if not sys.warnoptions:\n",
    "    warnings.simplefilter(\"ignore\")\n",
    "warnings.filterwarnings(\"ignore\", category=DeprecationWarning) "
   ]
  },
  {
   "cell_type": "markdown",
   "metadata": {},
   "source": [
    "### 1.2. Carregar o Dataframe da EDA "
   ]
  },
  {
   "cell_type": "code",
   "execution_count": 2,
   "metadata": {},
   "outputs": [],
   "source": [
    "data_path = r\"C:\\Users\\Felipe\\Documents\\Trilha\\projeto_IA\\miniprojeto2\\data\\ravdess_preprocessed.csv\" \n",
    "df = pd.read_csv(data_path) #carregando o dataframe que nós fizemos"
   ]
  },
  {
   "cell_type": "code",
   "execution_count": 3,
   "metadata": {},
   "outputs": [
    {
     "data": {
      "text/html": [
       "<div>\n",
       "<style scoped>\n",
       "    .dataframe tbody tr th:only-of-type {\n",
       "        vertical-align: middle;\n",
       "    }\n",
       "\n",
       "    .dataframe tbody tr th {\n",
       "        vertical-align: top;\n",
       "    }\n",
       "\n",
       "    .dataframe thead th {\n",
       "        text-align: right;\n",
       "    }\n",
       "</style>\n",
       "<table border=\"1\" class=\"dataframe\">\n",
       "  <thead>\n",
       "    <tr style=\"text-align: right;\">\n",
       "      <th></th>\n",
       "      <th>Emotions</th>\n",
       "      <th>Path</th>\n",
       "      <th>Processed_Path</th>\n",
       "    </tr>\n",
       "  </thead>\n",
       "  <tbody>\n",
       "    <tr>\n",
       "      <th>0</th>\n",
       "      <td>neutral</td>\n",
       "      <td>C:\\Users\\Felipe\\Documents\\Trilha\\projeto_IA\\mi...</td>\n",
       "      <td>c:\\Users\\Felipe\\Documents\\Trilha\\projeto_IA\\mi...</td>\n",
       "    </tr>\n",
       "    <tr>\n",
       "      <th>1</th>\n",
       "      <td>neutral</td>\n",
       "      <td>C:\\Users\\Felipe\\Documents\\Trilha\\projeto_IA\\mi...</td>\n",
       "      <td>c:\\Users\\Felipe\\Documents\\Trilha\\projeto_IA\\mi...</td>\n",
       "    </tr>\n",
       "    <tr>\n",
       "      <th>2</th>\n",
       "      <td>neutral</td>\n",
       "      <td>C:\\Users\\Felipe\\Documents\\Trilha\\projeto_IA\\mi...</td>\n",
       "      <td>c:\\Users\\Felipe\\Documents\\Trilha\\projeto_IA\\mi...</td>\n",
       "    </tr>\n",
       "    <tr>\n",
       "      <th>3</th>\n",
       "      <td>neutral</td>\n",
       "      <td>C:\\Users\\Felipe\\Documents\\Trilha\\projeto_IA\\mi...</td>\n",
       "      <td>c:\\Users\\Felipe\\Documents\\Trilha\\projeto_IA\\mi...</td>\n",
       "    </tr>\n",
       "    <tr>\n",
       "      <th>4</th>\n",
       "      <td>calm</td>\n",
       "      <td>C:\\Users\\Felipe\\Documents\\Trilha\\projeto_IA\\mi...</td>\n",
       "      <td>c:\\Users\\Felipe\\Documents\\Trilha\\projeto_IA\\mi...</td>\n",
       "    </tr>\n",
       "    <tr>\n",
       "      <th>...</th>\n",
       "      <td>...</td>\n",
       "      <td>...</td>\n",
       "      <td>...</td>\n",
       "    </tr>\n",
       "    <tr>\n",
       "      <th>1435</th>\n",
       "      <td>surprise</td>\n",
       "      <td>C:\\Users\\Felipe\\Documents\\Trilha\\projeto_IA\\mi...</td>\n",
       "      <td>c:\\Users\\Felipe\\Documents\\Trilha\\projeto_IA\\mi...</td>\n",
       "    </tr>\n",
       "    <tr>\n",
       "      <th>1436</th>\n",
       "      <td>surprise</td>\n",
       "      <td>C:\\Users\\Felipe\\Documents\\Trilha\\projeto_IA\\mi...</td>\n",
       "      <td>c:\\Users\\Felipe\\Documents\\Trilha\\projeto_IA\\mi...</td>\n",
       "    </tr>\n",
       "    <tr>\n",
       "      <th>1437</th>\n",
       "      <td>surprise</td>\n",
       "      <td>C:\\Users\\Felipe\\Documents\\Trilha\\projeto_IA\\mi...</td>\n",
       "      <td>c:\\Users\\Felipe\\Documents\\Trilha\\projeto_IA\\mi...</td>\n",
       "    </tr>\n",
       "    <tr>\n",
       "      <th>1438</th>\n",
       "      <td>surprise</td>\n",
       "      <td>C:\\Users\\Felipe\\Documents\\Trilha\\projeto_IA\\mi...</td>\n",
       "      <td>c:\\Users\\Felipe\\Documents\\Trilha\\projeto_IA\\mi...</td>\n",
       "    </tr>\n",
       "    <tr>\n",
       "      <th>1439</th>\n",
       "      <td>surprise</td>\n",
       "      <td>C:\\Users\\Felipe\\Documents\\Trilha\\projeto_IA\\mi...</td>\n",
       "      <td>c:\\Users\\Felipe\\Documents\\Trilha\\projeto_IA\\mi...</td>\n",
       "    </tr>\n",
       "  </tbody>\n",
       "</table>\n",
       "<p>1440 rows × 3 columns</p>\n",
       "</div>"
      ],
      "text/plain": [
       "      Emotions                                               Path  \\\n",
       "0      neutral  C:\\Users\\Felipe\\Documents\\Trilha\\projeto_IA\\mi...   \n",
       "1      neutral  C:\\Users\\Felipe\\Documents\\Trilha\\projeto_IA\\mi...   \n",
       "2      neutral  C:\\Users\\Felipe\\Documents\\Trilha\\projeto_IA\\mi...   \n",
       "3      neutral  C:\\Users\\Felipe\\Documents\\Trilha\\projeto_IA\\mi...   \n",
       "4         calm  C:\\Users\\Felipe\\Documents\\Trilha\\projeto_IA\\mi...   \n",
       "...        ...                                                ...   \n",
       "1435  surprise  C:\\Users\\Felipe\\Documents\\Trilha\\projeto_IA\\mi...   \n",
       "1436  surprise  C:\\Users\\Felipe\\Documents\\Trilha\\projeto_IA\\mi...   \n",
       "1437  surprise  C:\\Users\\Felipe\\Documents\\Trilha\\projeto_IA\\mi...   \n",
       "1438  surprise  C:\\Users\\Felipe\\Documents\\Trilha\\projeto_IA\\mi...   \n",
       "1439  surprise  C:\\Users\\Felipe\\Documents\\Trilha\\projeto_IA\\mi...   \n",
       "\n",
       "                                         Processed_Path  \n",
       "0     c:\\Users\\Felipe\\Documents\\Trilha\\projeto_IA\\mi...  \n",
       "1     c:\\Users\\Felipe\\Documents\\Trilha\\projeto_IA\\mi...  \n",
       "2     c:\\Users\\Felipe\\Documents\\Trilha\\projeto_IA\\mi...  \n",
       "3     c:\\Users\\Felipe\\Documents\\Trilha\\projeto_IA\\mi...  \n",
       "4     c:\\Users\\Felipe\\Documents\\Trilha\\projeto_IA\\mi...  \n",
       "...                                                 ...  \n",
       "1435  c:\\Users\\Felipe\\Documents\\Trilha\\projeto_IA\\mi...  \n",
       "1436  c:\\Users\\Felipe\\Documents\\Trilha\\projeto_IA\\mi...  \n",
       "1437  c:\\Users\\Felipe\\Documents\\Trilha\\projeto_IA\\mi...  \n",
       "1438  c:\\Users\\Felipe\\Documents\\Trilha\\projeto_IA\\mi...  \n",
       "1439  c:\\Users\\Felipe\\Documents\\Trilha\\projeto_IA\\mi...  \n",
       "\n",
       "[1440 rows x 3 columns]"
      ]
     },
     "execution_count": 3,
     "metadata": {},
     "output_type": "execute_result"
    }
   ],
   "source": [
    "df"
   ]
  },
  {
   "cell_type": "markdown",
   "metadata": {},
   "source": [
    "### 2. Criando uma função para extração das features"
   ]
  },
  {
   "cell_type": "markdown",
   "metadata": {},
   "source": [
    "##### Fizemos essa parte no notebook passado, então você pode copiar e colar o código das funções aqui, pois precisaremos delas:"
   ]
  },
  {
   "cell_type": "code",
   "execution_count": 4,
   "metadata": {},
   "outputs": [],
   "source": [
    "def noise(data):\n",
    "    # Code here\n",
    "    noise =np.random.normal(0, data.max(), data.shape) #criando ruído normal\n",
    "    data_with_noise = data + noise * 0.01 #adicionando o ruído normal ao audio\n",
    "    return data_with_noise\n",
    "\n",
    "def stretch(data, rate=0.8):\n",
    "    # Code here\n",
    "    audio_slow = librosa.effects.time_stretch(data, rate=0.8)\n",
    "    return audio_slow\n",
    "\n",
    "def shift(data):\n",
    "    # Code here\n",
    "    audio_shift = np.roll(data, 5)\n",
    "    return audio_shift\n",
    "\n",
    "def pitch(data, sampling_rate, pitch_factor=0.7):\n",
    "    # Code here\n",
    "    audio_pitch = librosa.effects.pitch_shift(data, sr=sample_rate, n_steps=0.7) #o n_steps é o quanto você quer mover o pitch\n",
    "    return audio_pitch\n",
    "\n",
    "# Taking any example and checking for techniques.\n",
    "path = np.array(df.Path)[1]\n",
    "data, sample_rate = librosa.load(path)"
   ]
  },
  {
   "cell_type": "markdown",
   "metadata": {},
   "source": [
    "##### Aqui você deve extrair essas features de fato... mais tarde você precisará delas :)"
   ]
  },
  {
   "cell_type": "code",
   "execution_count": 5,
   "metadata": {},
   "outputs": [],
   "source": [
    "def extract_features(data, sample_rate): \n",
    "    result = np.array([]) #cria uma matriz vazia\n",
    "\n",
    "    # Zero Crossing Rate\n",
    "    # Code here \n",
    "    zcr = np.mean(librosa.feature.zero_crossing_rate(y=data), axis=1) #conta quantas vezes a função passa por y = 0\n",
    "    result = np.hstack((result, zcr)) # a função np.hstack combina arrays em uma única linha\n",
    "\n",
    "    # Chroma_stft\n",
    "    # Code here    \n",
    "    chroma_stft = np.mean(librosa.feature.chroma_stft(y=data, sr=sample_rate), axis=1) #calcula o cromagrama do aúdio, ou seja a energia que cada nota musical obteve em cada nota\n",
    "    result = np.hstack((result, chroma_stft))\n",
    "\n",
    "    # MFCC\n",
    "    # Code here\n",
    "    mfcc = np.mean(librosa.feature.mfcc(y=data, sr=sample_rate), axis=1)\n",
    "    #retorna uma matriz 2d com os coeficientes MFFC em cada linha e a coluna é o tempo. o axis=1 transforma esse matriz 2d em um vetor 1d\n",
    "    result = np.hstack((result, mfcc))\n",
    "\n",
    "    # Root Mean Square Value\n",
    "    # Code here\n",
    "    rms = np.mean(librosa.feature.rms(y=data), axis=1)\n",
    "    #Processo parecido com o MFFC, porém ele retorna valor RMS, que basicamente serve para medir o volume do aúdio\n",
    "    result = np.hstack((result, rms))\n",
    "\n",
    "    # MelSpectrogram\n",
    "    # Code here\n",
    "    mel = np.mean(librosa.feature.melspectrogram(y=data, sr=sample_rate), axis=1)#Calcula um espectrograma na escala mel.\n",
    "    result = np.hstack((result, mel))\n",
    " \n",
    "    return result\n",
    "\n",
    "def get_features(path):\n",
    "    # Carregar áudio\n",
    "    data, sample_rate = librosa.load(path, duration=2.5, offset=0.6)\n",
    "\n",
    "    # Sem aumento de dados\n",
    "    res1 = extract_features(data, sample_rate)  \n",
    "    result = np.array(res1)\n",
    "\n",
    "    # Com ruído\n",
    "    noise_data = noise(data)\n",
    "    res2 = extract_features(noise_data, sample_rate)  \n",
    "    result = np.vstack((result, res2))\n",
    "\n",
    "    # Com alongamento e mudança de pitch\n",
    "    new_data = stretch(data)\n",
    "    data_stretch_pitch = pitch(new_data, sample_rate)\n",
    "    res3 = extract_features(data_stretch_pitch, sample_rate) \n",
    "    result = np.vstack((result, res3))\n",
    "    \n",
    "    return result"
   ]
  },
  {
   "cell_type": "markdown",
   "metadata": {},
   "source": [
    "##### Rode as células abaixo"
   ]
  },
  {
   "cell_type": "code",
   "execution_count": 7,
   "metadata": {},
   "outputs": [],
   "source": [
    "X, Y = [], []\n",
    "for path, emotion in zip(df['Path'], df['Emotions']):\n",
    "    feature = get_features(path)\n",
    "    # Appending emotion 3 times as we have made 3 augmentation techniques on each audio file.\n",
    "    for ele in feature:\n",
    "        X.append(ele)\n",
    "        Y.append(emotion)"
   ]
  },
  {
   "cell_type": "code",
   "execution_count": 8,
   "metadata": {},
   "outputs": [
    {
     "data": {
      "text/plain": [
       "(4320, 4320, (1440,))"
      ]
     },
     "execution_count": 8,
     "metadata": {},
     "output_type": "execute_result"
    }
   ],
   "source": [
    "len(X), len(Y), df.Path.shape"
   ]
  },
  {
   "cell_type": "markdown",
   "metadata": {},
   "source": [
    "##### Agora você deverá salvar o csv de features (features.csv)"
   ]
  },
  {
   "cell_type": "code",
   "execution_count": 9,
   "metadata": {},
   "outputs": [
    {
     "name": "stdout",
     "output_type": "stream",
     "text": [
      "O arquivo foi salvo em: c:\\Users\\Felipe\\Documents\\Trilha\\projeto_IA\\miniprojeto2\\data\\features.csv\n"
     ]
    }
   ],
   "source": [
    "# Definir o caminho correto para a pasta 'data' na raiz do projeto\n",
    "data_dir = os.path.join(os.path.dirname(os.getcwd()), \"data\")\n",
    "os.makedirs(data_dir, exist_ok=True)\n",
    "\n",
    "# Caminho correto para salvar o CSV na pasta 'data' da raiz do projeto\n",
    "csv_path = os.path.join(data_dir, \"features.csv\")\n",
    "\n",
    "# Crie um DataFrame do pandas chamado Features usando a lista X.\n",
    "# Adicione uma coluna 'labels' ao DataFrame usando a lista Y.\n",
    "# Salve o DataFrame como um arquivo CSV no caminho definido, sem incluir o índice, definindo _index_=False\n",
    "# Code here\n",
    "Features = pd.DataFrame(X)\n",
    "Features['labels'] = Y\n",
    "Features.to_csv(csv_path, index=False) \n",
    "\n",
    "\n",
    "print(f\"O arquivo foi salvo em: {csv_path}\")"
   ]
  },
  {
   "cell_type": "markdown",
   "metadata": {},
   "source": [
    "### 2.1. Data Preparation (Preparação dos Dados)"
   ]
  },
  {
   "cell_type": "code",
   "execution_count": 10,
   "metadata": {},
   "outputs": [],
   "source": [
    "X = Features.iloc[: ,:-1].values\n",
    "Y = Features['labels'].values"
   ]
  },
  {
   "cell_type": "code",
   "execution_count": 12,
   "metadata": {},
   "outputs": [],
   "source": [
    "# Use OneHotEncoder para transformar o Y em uma representação binária categórica, necessária para problemas de classificação multiclasse\n",
    "# Code here\n",
    "\n",
    "encoder = OneHotEncoder(sparse_output=False) \n",
    "#criando o encoder, sparse_output=False serve para a saída seja um array denso\n",
    "y_encoder = np.array(Y).reshape(-1, 1)\n",
    "#preparando os dados para o OneHotEncoder. Transforma o Y em um array, o reshape transforma o array um matriz 2d \n",
    "Y = encoder.fit_transform(y_encoder) \n",
    "#transformando os dados de y_encoder usando o OneHotEncoder"
   ]
  },
  {
   "cell_type": "code",
   "execution_count": 13,
   "metadata": {},
   "outputs": [],
   "source": [
    "# Use train_test_split do scikit-learn para dividir X e Y em conjuntos de treino e teste\n",
    "# Code here\n",
    "\n",
    "Y_raw = Features['labels'].values  #pega os valores da coluna labels em um array\n",
    "\n",
    "# 2. Encode para One-Hot\n",
    "encoder = OneHotEncoder(sparse_output=False)\n",
    "Y_encoded = encoder.fit_transform(Y_raw.reshape(-1, 1))  \n",
    "#Transforma o array Y_raw em uma matriz 2d. o fit_transform mostra as categorias de Y_raw e já transfroma\n",
    "\n",
    "x_train, x_test, y_train_encoded, y_test_encoded = train_test_split(X, Y_encoded, test_size=0.15, random_state=42)\n",
    "_, _, y_train_raw, y_test_raw = train_test_split(X, Y_raw, test_size=0.15, random_state=42)  # rótulos originais\n"
   ]
  },
  {
   "cell_type": "code",
   "execution_count": 15,
   "metadata": {},
   "outputs": [],
   "source": [
    "# Utilize StandardScaler do sklearn para normalizar as características de X\n",
    "# Code here\n",
    "from sklearn.preprocessing import StandardScaler\n",
    "scaler = StandardScaler()\n",
    "x_train_scaled = scaler.fit_transform(x_train) # Aprende e aplica nos dados de treino\n",
    "x_test_scaled = scaler.fit_transform(x_test)  #Aplica a mesma transformação nos dados de teste"
   ]
  },
  {
   "cell_type": "code",
   "execution_count": 16,
   "metadata": {},
   "outputs": [
    {
     "data": {
      "text/plain": [
       "((3672, 162, 1), (3672, 8), (648, 162, 1), (648, 8))"
      ]
     },
     "execution_count": 16,
     "metadata": {},
     "output_type": "execute_result"
    }
   ],
   "source": [
    "# Rode essa célula para deixar as dimensões certinhas com o modelo que iremos criar.\n",
    "x_train_scaled = np.expand_dims(x_train_scaled, axis=2)\n",
    "x_test_scaled = np.expand_dims(x_test_scaled, axis=2)\n",
    "x_train_scaled.shape, y_train_encoded.shape, x_test_scaled.shape, y_test_encoded.shape"
   ]
  },
  {
   "cell_type": "markdown",
   "metadata": {},
   "source": [
    "### 3. Model Training (Modelling)"
   ]
  },
  {
   "cell_type": "markdown",
   "metadata": {},
   "source": [
    "#### O modelo que vamos usar é uma rede neural convolucional (CNN) projetada para processar os dados extraídos dos arquivos de áudio. Essa estrutura é ideal para capturar padrões espectrais, como variações de tom e intensidade. A CNN é composta por:\n",
    "- Camadas Convolucionais (Conv1D): Extraem características do espectro do áudio.\n",
    "- Camadas de Pooling (MaxPooling1D): Reduzem a dimensionalidade e capturam as informações mais relevantes.\n",
    "- Dropout: Ajuda a evitar overfitting.\n",
    "- Camada Flatten: Transforma os mapas de features em um vetor de entrada para a camada totalmente conectada.\n",
    "- Camadas Densas (Dense): Realizam a classificação final usando a função de ativação softmax."
   ]
  },
  {
   "cell_type": "code",
   "execution_count": 17,
   "metadata": {},
   "outputs": [
    {
     "name": "stdout",
     "output_type": "stream",
     "text": [
      "WARNING:tensorflow:From c:\\Users\\Felipe\\Documents\\Trilha\\projeto_IA\\miniprojeto2\\venv\\lib\\site-packages\\keras\\src\\backend.py:873: The name tf.get_default_graph is deprecated. Please use tf.compat.v1.get_default_graph instead.\n",
      "\n",
      "WARNING:tensorflow:From c:\\Users\\Felipe\\Documents\\Trilha\\projeto_IA\\miniprojeto2\\venv\\lib\\site-packages\\keras\\src\\backend.py:6642: The name tf.nn.max_pool is deprecated. Please use tf.nn.max_pool2d instead.\n",
      "\n",
      "WARNING:tensorflow:From c:\\Users\\Felipe\\Documents\\Trilha\\projeto_IA\\miniprojeto2\\venv\\lib\\site-packages\\keras\\src\\optimizers\\__init__.py:309: The name tf.train.Optimizer is deprecated. Please use tf.compat.v1.train.Optimizer instead.\n",
      "\n",
      "Model: \"sequential\"\n",
      "_________________________________________________________________\n",
      " Layer (type)                Output Shape              Param #   \n",
      "=================================================================\n",
      " conv1d (Conv1D)             (None, 162, 256)          1536      \n",
      "                                                                 \n",
      " max_pooling1d (MaxPooling1  (None, 81, 256)           0         \n",
      " D)                                                              \n",
      "                                                                 \n",
      " conv1d_1 (Conv1D)           (None, 81, 256)           327936    \n",
      "                                                                 \n",
      " max_pooling1d_1 (MaxPoolin  (None, 41, 256)           0         \n",
      " g1D)                                                            \n",
      "                                                                 \n",
      " conv1d_2 (Conv1D)           (None, 41, 128)           163968    \n",
      "                                                                 \n",
      " max_pooling1d_2 (MaxPoolin  (None, 21, 128)           0         \n",
      " g1D)                                                            \n",
      "                                                                 \n",
      " dropout (Dropout)           (None, 21, 128)           0         \n",
      "                                                                 \n",
      " conv1d_3 (Conv1D)           (None, 21, 64)            41024     \n",
      "                                                                 \n",
      " max_pooling1d_3 (MaxPoolin  (None, 11, 64)            0         \n",
      " g1D)                                                            \n",
      "                                                                 \n",
      " flatten (Flatten)           (None, 704)               0         \n",
      "                                                                 \n",
      " dense (Dense)               (None, 32)                22560     \n",
      "                                                                 \n",
      " dropout_1 (Dropout)         (None, 32)                0         \n",
      "                                                                 \n",
      " dense_1 (Dense)             (None, 8)                 264       \n",
      "                                                                 \n",
      "=================================================================\n",
      "Total params: 557288 (2.13 MB)\n",
      "Trainable params: 557288 (2.13 MB)\n",
      "Non-trainable params: 0 (0.00 Byte)\n",
      "_________________________________________________________________\n"
     ]
    }
   ],
   "source": [
    "# Dica: você pode olhar a documentação e ir seguindo o passo a passo arquitetônico para criar o modelo.\n",
    "\n",
    "# Passo 1: Use Sequential() para criar o modelo como um contêiner linear.\n",
    "# Passo 2: Adicione uma camada Conv1D com 256 filtros, kernel_size=5, strides=1, padding='same' e função de ativação 'relu'.\n",
    "# Passo 3: Siga com uma camada MaxPooling1D com pool_size=5, strides=2, padding='same'.\n",
    "# Passo 4: Adicione mais uma camada Conv1D com 256 filtros, kernel_size=5, strides=1, padding='same' e função de ativação 'relu'.\n",
    "# Passo 5: Adicione mais uma camada MaxPooling1D com pool_size=5, strides=2, padding='same'.\n",
    "# Passo 6: Adicione mais uma camada Conv1D com 128 filtros, kernel_size=5, strides=1, padding='same' e função de ativação 'relu'.\n",
    "# Passo 7: Adicione mais uma camada MaxPooling1D com pool_size=5, strides=2, padding='same'.\n",
    "# Passo 8: Adicione uma camada Dropout com 0.2 de taxa de dropout.\n",
    "# Passo 9: Adicione mais uma camada Conv1D com 64 filtros, kernel_size=5, strides=1, padding='same' e função de ativação 'relu'.\n",
    "# Passo 10: Adicione mais uma camada MaxPooling1D com pool_size=5, strides=2, padding='same'.\n",
    "# Passo 11: Adicione uma camada Flatten.\n",
    "# Passo 12: Adicione uma camada Dense com 32 unidades e função de ativação 'relu'.\n",
    "# Passo 13: Adicione uma camada Dropout com 0.3 de taxa de dropout.\n",
    "# Passo 14: Adicione uma camada Dense com 8 unidades e função de ativação 'softmax'.\n",
    "# Passo 15: Compile o modelo com otimizador 'adam', loss 'categorical_crossentropy' e métrica 'accuracy'.\n",
    "# Passo 16: Use model.summary() para visualizar o modelo.\n",
    "\n",
    "# Code here\n",
    "modelo = keras.Sequential([ #passo1\n",
    " (keras.layers.Conv1D(filters=256, kernel_size=5, strides=1, padding='same', activation='relu',input_shape=(162, 1))) #passo2\n",
    ",(keras.layers.MaxPooling1D(pool_size=5, strides=2, padding='same')) #passo3\n",
    ",(keras.layers.Conv1D(filters=256, kernel_size=5, strides=1, padding='same', activation='relu')) #passo4\n",
    ",(keras.layers.MaxPooling1D(pool_size=5, strides=2, padding='same')) #passo5\n",
    ",(keras.layers.Conv1D(filters=128, kernel_size=5, strides=1, padding='same', activation='relu')) #passo6\n",
    ",(keras.layers.MaxPooling1D(pool_size=5, strides=2, padding='same')) #passo7\n",
    ",(keras.layers.Dropout(rate=0.2)) #passo8\n",
    ",(keras.layers.Conv1D(filters=64, kernel_size=5, strides=1, padding='same', activation='relu')) #passo9\n",
    ",(keras.layers.MaxPooling1D(pool_size=5, strides=2, padding='same')) #passo10\n",
    ",(keras.layers.Flatten()) #passo11\n",
    ",(keras.layers.Dense(units=32,activation='relu')) #passo12\n",
    ",(keras.layers.Dropout(rate=0.3)) #passo13\n",
    ",(keras.layers.Dense(units=8,activation='softmax'))]) #passo14\n",
    "modelo.compile(optimizer='adam', loss='categorical_crossentropy', metrics=['accuracy']) #passo15\n",
    "modelo.summary() #passo16"
   ]
  },
  {
   "cell_type": "markdown",
   "metadata": {},
   "source": [
    "### 3.1. Agora vamos de fato treinar o modelo, siga esses passos: \n",
    "##### 1. Use o callback para Ajustar a Taxa de Aprendizado \n",
    "##### ReduceLROnPlateau: Diminui a taxa de aprendizado quando uma métrica está estagnada.\n",
    "   Parâmetros:\n",
    "   - monitor='loss': Monitora a perda durante o treinamento.\n",
    "   - factor=0.4: Reduz a taxa de aprendizado por este fator.\n",
    "   - patience=2: Número de épocas sem melhora antes da redução.\n",
    "   - min_lr=0.0000001: Limite mínimo para a taxa de aprendizado.\n",
    "             \n",
    "##### 2. Treine o Modelo \n",
    "##### Utilize model.fit para iniciar o treino da rede neural.\n",
    "   Parâmetros:\n",
    "   - x_train, y_train: Conjunto de dados de treino.\n",
    "   - batch_size=64: Número de amostras por atualização de gradiente.\n",
    "   - epochs=50: Número de vezes que o modelo treina em todo o conjunto de dados.\n",
    "   - validation_data=(x_test, y_test): Conjunto de dados para validação durante o treino.\n",
    "   - callbacks=[rlrp]: Lista de callbacks a serem aplicados durante o treino.\n",
    "     "
   ]
  },
  {
   "cell_type": "code",
   "execution_count": null,
   "metadata": {},
   "outputs": [
    {
     "name": "stdout",
     "output_type": "stream",
     "text": [
      "Epoch 1/50\n",
      "WARNING:tensorflow:From c:\\Users\\Felipe\\Documents\\Trilha\\projeto_IA\\miniprojeto2\\venv\\lib\\site-packages\\keras\\src\\utils\\tf_utils.py:492: The name tf.ragged.RaggedTensorValue is deprecated. Please use tf.compat.v1.ragged.RaggedTensorValue instead.\n",
      "\n",
      "WARNING:tensorflow:From c:\\Users\\Felipe\\Documents\\Trilha\\projeto_IA\\miniprojeto2\\venv\\lib\\site-packages\\keras\\src\\engine\\base_layer_utils.py:384: The name tf.executing_eagerly_outside_functions is deprecated. Please use tf.compat.v1.executing_eagerly_outside_functions instead.\n",
      "\n",
      "58/58 [==============================] - 12s 162ms/step - loss: 1.9794 - accuracy: 0.2062 - val_loss: 1.8995 - val_accuracy: 0.2207 - lr: 0.0010\n",
      "Epoch 2/50\n",
      "58/58 [==============================] - 9s 153ms/step - loss: 1.9158 - accuracy: 0.2456 - val_loss: 1.8640 - val_accuracy: 0.2793 - lr: 0.0010\n",
      "Epoch 3/50\n",
      "58/58 [==============================] - 9s 151ms/step - loss: 1.8572 - accuracy: 0.2685 - val_loss: 1.8240 - val_accuracy: 0.2917 - lr: 0.0010\n",
      "Epoch 4/50\n",
      "58/58 [==============================] - 9s 151ms/step - loss: 1.7959 - accuracy: 0.3028 - val_loss: 1.7426 - val_accuracy: 0.3410 - lr: 0.0010\n",
      "Epoch 5/50\n",
      "58/58 [==============================] - 9s 159ms/step - loss: 1.7334 - accuracy: 0.3273 - val_loss: 1.7093 - val_accuracy: 0.3519 - lr: 0.0010\n",
      "Epoch 6/50\n",
      "58/58 [==============================] - 10s 168ms/step - loss: 1.6670 - accuracy: 0.3461 - val_loss: 1.6918 - val_accuracy: 0.3179 - lr: 0.0010\n",
      "Epoch 7/50\n",
      "58/58 [==============================] - 10s 166ms/step - loss: 1.6306 - accuracy: 0.3668 - val_loss: 1.7416 - val_accuracy: 0.3333 - lr: 0.0010\n",
      "Epoch 8/50\n",
      "58/58 [==============================] - 10s 168ms/step - loss: 1.5890 - accuracy: 0.3908 - val_loss: 1.6120 - val_accuracy: 0.3565 - lr: 0.0010\n",
      "Epoch 9/50\n",
      "58/58 [==============================] - 10s 167ms/step - loss: 1.5589 - accuracy: 0.3930 - val_loss: 1.5909 - val_accuracy: 0.3611 - lr: 0.0010\n",
      "Epoch 10/50\n",
      "58/58 [==============================] - 10s 164ms/step - loss: 1.5218 - accuracy: 0.4218 - val_loss: 1.5682 - val_accuracy: 0.3812 - lr: 0.0010\n",
      "Epoch 11/50\n",
      "58/58 [==============================] - 10s 165ms/step - loss: 1.4777 - accuracy: 0.4273 - val_loss: 1.5932 - val_accuracy: 0.3704 - lr: 0.0010\n",
      "Epoch 12/50\n",
      "58/58 [==============================] - 10s 166ms/step - loss: 1.4367 - accuracy: 0.4597 - val_loss: 1.5370 - val_accuracy: 0.4043 - lr: 0.0010\n",
      "Epoch 13/50\n",
      "58/58 [==============================] - 10s 165ms/step - loss: 1.3928 - accuracy: 0.4605 - val_loss: 1.4831 - val_accuracy: 0.4275 - lr: 0.0010\n",
      "Epoch 14/50\n",
      "58/58 [==============================] - 10s 168ms/step - loss: 1.3655 - accuracy: 0.4719 - val_loss: 1.4800 - val_accuracy: 0.4336 - lr: 0.0010\n",
      "Epoch 15/50\n",
      "58/58 [==============================] - 10s 168ms/step - loss: 1.3129 - accuracy: 0.4864 - val_loss: 1.4716 - val_accuracy: 0.4321 - lr: 0.0010\n",
      "Epoch 16/50\n",
      "58/58 [==============================] - 10s 166ms/step - loss: 1.2965 - accuracy: 0.4984 - val_loss: 1.5142 - val_accuracy: 0.4228 - lr: 0.0010\n",
      "Epoch 17/50\n",
      "58/58 [==============================] - 10s 166ms/step - loss: 1.2430 - accuracy: 0.5226 - val_loss: 1.5511 - val_accuracy: 0.4537 - lr: 0.0010\n",
      "Epoch 18/50\n",
      "58/58 [==============================] - 10s 167ms/step - loss: 1.1938 - accuracy: 0.5441 - val_loss: 1.4321 - val_accuracy: 0.4861 - lr: 0.0010\n",
      "Epoch 19/50\n",
      "58/58 [==============================] - 10s 166ms/step - loss: 1.1661 - accuracy: 0.5613 - val_loss: 1.4055 - val_accuracy: 0.4784 - lr: 0.0010\n",
      "Epoch 20/50\n",
      "58/58 [==============================] - 10s 165ms/step - loss: 1.1271 - accuracy: 0.5689 - val_loss: 1.4486 - val_accuracy: 0.4877 - lr: 0.0010\n",
      "Epoch 21/50\n",
      "58/58 [==============================] - 10s 167ms/step - loss: 1.1098 - accuracy: 0.5708 - val_loss: 1.4826 - val_accuracy: 0.4738 - lr: 0.0010\n",
      "Epoch 22/50\n",
      "58/58 [==============================] - 10s 164ms/step - loss: 1.0510 - accuracy: 0.6010 - val_loss: 1.3363 - val_accuracy: 0.5123 - lr: 0.0010\n",
      "Epoch 23/50\n",
      "58/58 [==============================] - 10s 164ms/step - loss: 1.0305 - accuracy: 0.6035 - val_loss: 1.3605 - val_accuracy: 0.5108 - lr: 0.0010\n",
      "Epoch 24/50\n",
      "58/58 [==============================] - 10s 167ms/step - loss: 1.0065 - accuracy: 0.6176 - val_loss: 1.3687 - val_accuracy: 0.5154 - lr: 0.0010\n",
      "Epoch 25/50\n",
      "58/58 [==============================] - 10s 164ms/step - loss: 0.9595 - accuracy: 0.6389 - val_loss: 1.4181 - val_accuracy: 0.4985 - lr: 0.0010\n",
      "Epoch 26/50\n",
      "58/58 [==============================] - 10s 172ms/step - loss: 0.9166 - accuracy: 0.6580 - val_loss: 1.3970 - val_accuracy: 0.5278 - lr: 0.0010\n",
      "Epoch 27/50\n",
      "58/58 [==============================] - 10s 166ms/step - loss: 0.8716 - accuracy: 0.6710 - val_loss: 1.4427 - val_accuracy: 0.5355 - lr: 0.0010\n",
      "Epoch 28/50\n",
      "58/58 [==============================] - 10s 172ms/step - loss: 0.8555 - accuracy: 0.6688 - val_loss: 1.4049 - val_accuracy: 0.4907 - lr: 0.0010\n",
      "Epoch 29/50\n",
      "58/58 [==============================] - 10s 166ms/step - loss: 0.8210 - accuracy: 0.6950 - val_loss: 1.5011 - val_accuracy: 0.5216 - lr: 0.0010\n",
      "Epoch 30/50\n",
      "58/58 [==============================] - 10s 165ms/step - loss: 0.8055 - accuracy: 0.6996 - val_loss: 1.5001 - val_accuracy: 0.5417 - lr: 0.0010\n",
      "Epoch 31/50\n",
      "58/58 [==============================] - 9s 164ms/step - loss: 0.7764 - accuracy: 0.7119 - val_loss: 1.3639 - val_accuracy: 0.5463 - lr: 0.0010\n",
      "Epoch 32/50\n",
      "58/58 [==============================] - 10s 166ms/step - loss: 0.7147 - accuracy: 0.7429 - val_loss: 1.4056 - val_accuracy: 0.5772 - lr: 0.0010\n",
      "Epoch 33/50\n",
      "58/58 [==============================] - 10s 173ms/step - loss: 0.7063 - accuracy: 0.7318 - val_loss: 1.4039 - val_accuracy: 0.5694 - lr: 0.0010\n",
      "Epoch 34/50\n",
      "58/58 [==============================] - 10s 173ms/step - loss: 0.6564 - accuracy: 0.7505 - val_loss: 1.5025 - val_accuracy: 0.5664 - lr: 0.0010\n",
      "Epoch 35/50\n",
      "58/58 [==============================] - 10s 174ms/step - loss: 0.6743 - accuracy: 0.7456 - val_loss: 1.4692 - val_accuracy: 0.5679 - lr: 0.0010\n",
      "Epoch 36/50\n",
      "58/58 [==============================] - 10s 175ms/step - loss: 0.6329 - accuracy: 0.7598 - val_loss: 1.3885 - val_accuracy: 0.5710 - lr: 0.0010\n",
      "Epoch 37/50\n",
      "58/58 [==============================] - 10s 175ms/step - loss: 0.5815 - accuracy: 0.7816 - val_loss: 1.3857 - val_accuracy: 0.5787 - lr: 0.0010\n",
      "Epoch 38/50\n",
      "58/58 [==============================] - 11s 186ms/step - loss: 0.5477 - accuracy: 0.7925 - val_loss: 1.4600 - val_accuracy: 0.5941 - lr: 0.0010\n",
      "Epoch 39/50\n",
      "58/58 [==============================] - 12s 208ms/step - loss: 0.5493 - accuracy: 0.7955 - val_loss: 1.4604 - val_accuracy: 0.6065 - lr: 0.0010\n",
      "Epoch 40/50\n",
      "58/58 [==============================] - 10s 171ms/step - loss: 0.4913 - accuracy: 0.8252 - val_loss: 1.5770 - val_accuracy: 0.5818 - lr: 0.0010\n",
      "Epoch 41/50\n",
      "58/58 [==============================] - 10s 173ms/step - loss: 0.5189 - accuracy: 0.8137 - val_loss: 1.4872 - val_accuracy: 0.5957 - lr: 0.0010\n",
      "Epoch 42/50\n",
      "58/58 [==============================] - 10s 168ms/step - loss: 0.4839 - accuracy: 0.8241 - val_loss: 1.6400 - val_accuracy: 0.5910 - lr: 0.0010\n",
      "Epoch 43/50\n",
      "58/58 [==============================] - 10s 169ms/step - loss: 0.4826 - accuracy: 0.8243 - val_loss: 1.5485 - val_accuracy: 0.6034 - lr: 0.0010\n",
      "Epoch 44/50\n",
      "58/58 [==============================] - 9s 163ms/step - loss: 0.4480 - accuracy: 0.8350 - val_loss: 1.6581 - val_accuracy: 0.5787 - lr: 0.0010\n",
      "Epoch 45/50\n",
      "58/58 [==============================] - 9s 162ms/step - loss: 0.4547 - accuracy: 0.8423 - val_loss: 1.6420 - val_accuracy: 0.5926 - lr: 0.0010\n",
      "Epoch 46/50\n",
      "58/58 [==============================] - 9s 162ms/step - loss: 0.4051 - accuracy: 0.8565 - val_loss: 1.6240 - val_accuracy: 0.5988 - lr: 0.0010\n",
      "Epoch 47/50\n",
      "58/58 [==============================] - 9s 163ms/step - loss: 0.3964 - accuracy: 0.8600 - val_loss: 1.5308 - val_accuracy: 0.6127 - lr: 0.0010\n",
      "Epoch 48/50\n",
      "58/58 [==============================] - 10s 168ms/step - loss: 0.3757 - accuracy: 0.8617 - val_loss: 1.4732 - val_accuracy: 0.6111 - lr: 0.0010\n",
      "Epoch 49/50\n",
      "58/58 [==============================] - 10s 175ms/step - loss: 0.3940 - accuracy: 0.8606 - val_loss: 1.6214 - val_accuracy: 0.5910 - lr: 0.0010\n",
      "Epoch 50/50\n",
      "58/58 [==============================] - 10s 171ms/step - loss: 0.4036 - accuracy: 0.8638 - val_loss: 1.5561 - val_accuracy: 0.6003 - lr: 0.0010\n"
     ]
    }
   ],
   "source": [
    "#Treinando o modelo e guardando na variável model_fit\n",
    "\n",
    "model_fit = modelo.fit(\n",
    "    x=x_train_scaled,\n",
    "    y=y_train_encoded, \n",
    "    batch_size=64,\n",
    "    epochs=50,\n",
    "    callbacks=[\n",
    "        ReduceLROnPlateau(\n",
    "            monitor=\"loss\",\n",
    "            factor=0.4,\n",
    "            patience=2,\n",
    "            mode=\"auto\",\n",
    "            min_delta=0.0000001\n",
    "        )\n",
    "    ],\n",
    "    validation_data=(x_test_scaled, y_test_encoded)  \n",
    ")"
   ]
  },
  {
   "cell_type": "markdown",
   "metadata": {},
   "source": [
    "### 3.2. Avaliar e Visualizar a Performance do Modelo\n",
    "\n",
    "##### Passo 1: Avaliando o Modelo\n",
    "- **Precisão nos Dados de Teste**:\n",
    "  - Use `model.evaluate(x_test, y_test)` para calcular a precisão do modelo no conjunto de teste.\n",
    "\n",
    "##### Passo 2: Preparando os Gráficos\n",
    "- **Definindo Épocas**:\n",
    "  - Crie uma lista de épocas para o eixo x\n",
    "- **Configurando o Layout do Gráfico**:\n",
    "  - Use `fig, ax = plt.subplots(1, 2)` para criar dois gráficos lado a lado.\n",
    "\n",
    "##### Passo 3: Plotando a Perda\n",
    "- **Gráfico de Perda**:\n",
    "  - Plote a perda de treino e teste:\n",
    "    ```python\n",
    "    ax[0].plot(epochs, train_loss, label='Training Loss')\n",
    "    ax[0].plot(epochs, test_loss, label='Testing Loss')\n",
    "    ```\n",
    "\n",
    "##### Passo 4: Plotando a Precisão\n",
    "- **Gráfico de Precisão**:\n",
    "  - Plote a precisão de treino e teste:\n",
    "    ```python\n",
    "    ax[1].plot(epochs, train_acc, label='Training Accuracy')\n",
    "    ax[1].plot(epochs, test_acc, label='Testing Accuracy')\n",
    "    ```\n",
    "\n",
    "##### Objetivos:\n",
    "  - **Perda**: Ajuda a identificar se o modelo está treinando bem ou se há overfitting.\n",
    "  - **Precisão**: Mostra o quão eficaz é o treinamento do modelo em acertar as previsões.\n"
   ]
  },
  {
   "cell_type": "code",
   "execution_count": 22,
   "metadata": {},
   "outputs": [
    {
     "name": "stdout",
     "output_type": "stream",
     "text": [
      "21/21 [==============================] - 1s 28ms/step - loss: 1.5561 - accuracy: 0.6003\n",
      "Test loss: 1.5561186075210571\n",
      "Test accuracy: 0.6003086566925049\n"
     ]
    },
    {
     "data": {
      "text/plain": [
       "[<matplotlib.lines.Line2D at 0x26e7a813fd0>]"
      ]
     },
     "execution_count": 22,
     "metadata": {},
     "output_type": "execute_result"
    },
    {
     "data": {
      "image/png": "[encoded data removed]",
      "text/plain": [
       "<Figure size 2000x500 with 2 Axes>"
      ]
     },
     "metadata": {},
     "output_type": "display_data"
    }
   ],
   "source": [
    "# Code here\n",
    "#Passo 1\n",
    "test_loss, test_acc = modelo.evaluate(x_test_scaled, y_test_encoded) #.evaluate vai retornar o valor loss e accuracy do nosso teste para as variáveis\n",
    "\n",
    "print(f'Test loss: {test_loss}')\n",
    "print(f'Test accuracy: {test_acc}')\n",
    "#Passo 2\n",
    "train_loss = model_fit.history['loss'] \n",
    "#history é um dicioário que contém os valores do treinamento de cada epoch. Nesse caso esse são os valores da key loss\n",
    "test_loss = model_fit.history['val_loss'] \n",
    "epochs = list(range(len(model_fit.history['loss']))) \n",
    "fig, ax = plt.subplots(1, 2, figsize=(20, 5)) #criou uma lista com dois gráficos\n",
    "ax[0].plot(epochs, train_loss, label='Training Loss') ##ax[0] primeiro gráfico\n",
    "ax[0].plot(epochs, test_loss, label='Testing Loss')\n",
    "\n",
    "train_accuracy = model_fit.history['accuracy']\n",
    "test_accuracy = model_fit.history['val_accuracy']\n",
    "ax[1].plot(epochs, train_accuracy, label='Training Accuracy')\n",
    "ax[1].plot(epochs, test_accuracy, label= 'Testing Accuracy')\n",
    "\n",
    "\n"
   ]
  },
  {
   "cell_type": "markdown",
   "metadata": {},
   "source": [
    "### 3.3. Chegou a parte boa! vamos prever os valores nos dados de teste\n",
    "- Passo 1: Use model.predict() no x_test e salve o resultado em pred_test.\n",
    "- Passo 2: Crie y_pred a partir de pred_test usando inverse_transform do encoder (Precisamos converter as previsões codificadas do One-Hot de volta aos rótulos originais)\n",
    "- Passo 3: Faça o mesmo para os rótulos de teste (y_test), decodificando-os de volta aos rótulos originais."
   ]
  },
  {
   "cell_type": "code",
   "execution_count": null,
   "metadata": {},
   "outputs": [
    {
     "name": "stdout",
     "output_type": "stream",
     "text": [
      "21/21 [==============================] - 1s 24ms/step\n"
     ]
    }
   ],
   "source": [
    "# Code here\n",
    "\n",
    "\n",
    "x_test_scaled = x_test_scaled.squeeze()\n",
    "\n",
    "\n",
    "pred_test = modelo.predict(x_test_scaled) #O modelo prever a partir do x_test_scaled\n",
    "\n",
    "\n",
    "pred_classes = np.argmax(pred_test, axis=1).reshape(-1, 1) #retorna o índice do maior porcentagem\n",
    "\n",
    "\n",
    "y_pred = encoder.inverse_transform(np.eye(pred_test.shape[1])[pred_classes.flatten()]) #traduz do índice(OneHotEncoder) para string\n",
    "\n",
    "\n",
    "\n"
   ]
  },
  {
   "cell_type": "code",
   "execution_count": 27,
   "metadata": {},
   "outputs": [
    {
     "data": {
      "text/html": [
       "<div>\n",
       "<style scoped>\n",
       "    .dataframe tbody tr th:only-of-type {\n",
       "        vertical-align: middle;\n",
       "    }\n",
       "\n",
       "    .dataframe tbody tr th {\n",
       "        vertical-align: top;\n",
       "    }\n",
       "\n",
       "    .dataframe thead th {\n",
       "        text-align: right;\n",
       "    }\n",
       "</style>\n",
       "<table border=\"1\" class=\"dataframe\">\n",
       "  <thead>\n",
       "    <tr style=\"text-align: right;\">\n",
       "      <th></th>\n",
       "      <th>Predicted Labels</th>\n",
       "      <th>Actual Labels</th>\n",
       "    </tr>\n",
       "  </thead>\n",
       "  <tbody>\n",
       "    <tr>\n",
       "      <th>0</th>\n",
       "      <td>angry</td>\n",
       "      <td>angry</td>\n",
       "    </tr>\n",
       "    <tr>\n",
       "      <th>1</th>\n",
       "      <td>fear</td>\n",
       "      <td>fear</td>\n",
       "    </tr>\n",
       "    <tr>\n",
       "      <th>2</th>\n",
       "      <td>disgust</td>\n",
       "      <td>disgust</td>\n",
       "    </tr>\n",
       "    <tr>\n",
       "      <th>3</th>\n",
       "      <td>sad</td>\n",
       "      <td>sad</td>\n",
       "    </tr>\n",
       "    <tr>\n",
       "      <th>4</th>\n",
       "      <td>calm</td>\n",
       "      <td>surprise</td>\n",
       "    </tr>\n",
       "    <tr>\n",
       "      <th>5</th>\n",
       "      <td>happy</td>\n",
       "      <td>surprise</td>\n",
       "    </tr>\n",
       "    <tr>\n",
       "      <th>6</th>\n",
       "      <td>happy</td>\n",
       "      <td>disgust</td>\n",
       "    </tr>\n",
       "    <tr>\n",
       "      <th>7</th>\n",
       "      <td>angry</td>\n",
       "      <td>angry</td>\n",
       "    </tr>\n",
       "    <tr>\n",
       "      <th>8</th>\n",
       "      <td>neutral</td>\n",
       "      <td>neutral</td>\n",
       "    </tr>\n",
       "    <tr>\n",
       "      <th>9</th>\n",
       "      <td>disgust</td>\n",
       "      <td>sad</td>\n",
       "    </tr>\n",
       "  </tbody>\n",
       "</table>\n",
       "</div>"
      ],
      "text/plain": [
       "  Predicted Labels Actual Labels\n",
       "0            angry         angry\n",
       "1             fear          fear\n",
       "2          disgust       disgust\n",
       "3              sad           sad\n",
       "4             calm      surprise\n",
       "5            happy      surprise\n",
       "6            happy       disgust\n",
       "7            angry         angry\n",
       "8          neutral       neutral\n",
       "9          disgust           sad"
      ]
     },
     "execution_count": 27,
     "metadata": {},
     "output_type": "execute_result"
    }
   ],
   "source": [
    "# Rode essa célula para ver se o modelo que criamos está fazendo sentido para a maioria dos valores.\n",
    "\n",
    "df = pd.DataFrame(columns=['Predicted Labels', 'Actual Labels'])\n",
    "df['Predicted Labels'] = y_pred.flatten()\n",
    "df['Actual Labels'] = y_test_raw.flatten()\n",
    "\n",
    "df.head(10)\n"
   ]
  },
  {
   "cell_type": "markdown",
   "metadata": {},
   "source": [
    "### 3.4. Plotar Matriz de Confusão\n",
    "- Agora tenho um desafio para você, eu quero que você crie uma matriz de confusão que relacione os resultados preditos com os valores reais das emoções!"
   ]
  },
  {
   "cell_type": "code",
   "execution_count": 28,
   "metadata": {},
   "outputs": [
    {
     "data": {
      "text/plain": [
       "Text(0.5, 1.0, 'Matriz de Confusão')"
      ]
     },
     "execution_count": 28,
     "metadata": {},
     "output_type": "execute_result"
    },
    {
     "data": {
      "image/png": "[encoded data removed]",
      "text/plain": [
       "<Figure size 1500x1000 with 2 Axes>"
      ]
     },
     "metadata": {},
     "output_type": "display_data"
    }
   ],
   "source": [
    "# Code here\n",
    "matriz_confusao = confusion_matrix(y_test_raw, y_pred) #cria matriz de confusão a partir de y_test_raw e Y_pred\n",
    "emotion_names = ['angry', 'calm', 'disgust', 'fear', 'happy', 'neutral', 'sad', 'surprise']\n",
    "fig, ax = plt.subplots(figsize=(15,10)) \n",
    "sns.heatmap(matriz_confusao, linewidths=1, annot=True, ax=ax, fmt='g', cmap='Blues', xticklabels=emotion_names, yticklabels=emotion_names)\n",
    "plt.title('Matriz de Confusão')"
   ]
  },
  {
   "cell_type": "code",
   "execution_count": 29,
   "metadata": {},
   "outputs": [
    {
     "name": "stdout",
     "output_type": "stream",
     "text": [
      "              precision    recall  f1-score   support\n",
      "\n",
      "       angry       0.68      0.63      0.65        86\n",
      "        calm       0.71      0.79      0.75        67\n",
      "     disgust       0.53      0.75      0.62        96\n",
      "        fear       0.60      0.72      0.66        86\n",
      "       happy       0.55      0.42      0.47        89\n",
      "     neutral       0.43      0.47      0.45        47\n",
      "         sad       0.62      0.46      0.53        87\n",
      "    surprise       0.68      0.54      0.60        90\n",
      "\n",
      "    accuracy                           0.60       648\n",
      "   macro avg       0.60      0.60      0.59       648\n",
      "weighted avg       0.61      0.60      0.60       648\n",
      "\n"
     ]
    }
   ],
   "source": [
    "# Use a função classification_report do sklearn para visualizar a precisão, recall e f1-score do modelo.\n",
    "# Code here\n",
    "classification_report = classification_report(y_test_raw, y_pred, target_names=emotion_names)\n",
    "print(classification_report)"
   ]
  },
  {
   "cell_type": "markdown",
   "metadata": {},
   "source": [
    "### 4. Conclusão\n",
    "- Podemos ver que nosso modelo é mais preciso na predição das emoções surpresa e raiva, o que faz sentido, pois os arquivos de áudio dessas emoções diferem bastante dos outros em aspectos como tom, velocidade, etc.\n",
    "- No geral, alcançamos 62% de precisão nos dados de teste, o que é razoável, mas podemos melhorar ainda mais aplicando mais técnicas de aumento de dados e utilizando outros métodos de extração de features."
   ]
  },
  {
   "cell_type": "markdown",
   "metadata": {},
   "source": [
    "### 5. Salvando o Modelo e o Scaler"
   ]
  },
  {
   "cell_type": "markdown",
   "metadata": {},
   "source": [
    "##### Passo 1: Salvando o Modelo\n",
    "1. **Importação:** Use o `load_model` do Keras.\n",
    "2. **Diretório:** Crie um diretório chamado `models` se não existir.\n",
    "3. **Salvar:** Salve o modelo como no caminho especificado.\n",
    "\n",
    "##### Passo 2: Salvando o Scaler\n",
    "1. **Importação:** Use `joblib`.\n",
    "2. **Diretório:** Utilize o mesmo caminho `models`.\n",
    "3. **Salvar:** Salve o scaler."
   ]
  },
  {
   "cell_type": "code",
   "execution_count": 30,
   "metadata": {},
   "outputs": [
    {
     "name": "stdout",
     "output_type": "stream",
     "text": [
      "Modelo salvo em: c:\\Users\\Felipe\\Documents\\Trilha\\projeto_IA\\miniprojeto2\\models\\audio_emotion_model.keras\n"
     ]
    }
   ],
   "source": [
    "# Code here\n",
    "from tensorflow.keras.models import load_model\n",
    "\n",
    "raiz = os.path.abspath(os.path.join(os.getcwd(), \"..\"))\n",
    "models_dir = os.path.join(raiz, \"models\")\n",
    "os.makedirs(models_dir, exist_ok=True)\n",
    "model_path = os.path.join(models_dir, \"audio_emotion_model.keras\")\n",
    "modelo.save(model_path)\n",
    "print(f\"Modelo salvo em: {model_path}\")"
   ]
  },
  {
   "cell_type": "code",
   "execution_count": 31,
   "metadata": {},
   "outputs": [
    {
     "name": "stdout",
     "output_type": "stream",
     "text": [
      "Scaler salvo em: c:\\Users\\Felipe\\Documents\\Trilha\\projeto_IA\\miniprojeto2\\models\\scaler.joblib\n"
     ]
    }
   ],
   "source": [
    "# Code here\n",
    "import joblib\n",
    "\n",
    "models_dir = os.path.abspath(os.path.join(os.getcwd(), \"..\", \"models\"))\n",
    "os.makedirs(models_dir, exist_ok=True)\n",
    "scaler_path = os.path.join(models_dir, \"scaler.joblib\")\n",
    "joblib.dump(scaler, scaler_path)\n",
    "\n",
    "print(f\"Scaler salvo em: {scaler_path}\")"
   ]
  }
 ],
 "metadata": {
  "kernelspec": {
   "display_name": "venv",
   "language": "python",
   "name": "python3"
  },
  "language_info": {
   "codemirror_mode": {
    "name": "ipython",
    "version": 3
   },
   "file_extension": ".py",
   "mimetype": "text/x-python",
   "name": "python",
   "nbconvert_exporter": "python",
   "pygments_lexer": "ipython3",
   "version": "3.10.1"
  }
 },
 "nbformat": 4,
 "nbformat_minor": 4
}
